{
 "cells": [
  {
   "cell_type": "markdown",
   "metadata": {},
   "source": [
    "# GEOS-Chem Curtain Plotting "
   ]
  },
  {
   "cell_type": "markdown",
   "metadata": {},
   "source": [
    "## Overview of this Notebook\n",
    "\n",
    "* Import dependencies\n",
    "* Load data\n",
    "* Create a new dataset\n",
    "* Define a function to plot altitude vs lat or lon, or zonal mean\n",
    "* Plot data\n",
    "* Save plots to a pdf"
   ]
  },
  {
   "cell_type": "markdown",
   "metadata": {},
   "source": [
    "## Import dependencies"
   ]
  },
  {
   "cell_type": "code",
   "execution_count": 1,
   "metadata": {},
   "outputs": [],
   "source": [
    "import os\n",
    "import numpy as np\n",
    "import pandas as pd\n",
    "import xarray as xr\n",
    "import matplotlib.pyplot as plt\n",
    "import matplotlib as mpl\n",
    "from matplotlib import ticker\n",
    "from matplotlib.backends.backend_pdf import PdfPages\n",
    "from matplotlib.colors import ListedColormap\n",
    "from cartopy import crs\n",
    "from cartopy.mpl.geoaxes import GeoAxes\n",
    "\n",
    "%matplotlib inline\n",
    "import warnings; warnings.filterwarnings(\"ignore\")\n",
    "\n",
    "# Also define colormap. Colormap file source: https://bitbucket.org/gcst/gcpy\n",
    "rgb_WhGrYlRd = np.genfromtxt('/n/home08/elundgren/GC/python/WhGrYlRd.txt',delimiter=' ')\n",
    "WhGrYlRd = ListedColormap(rgb_WhGrYlRd/255.0)"
   ]
  },
  {
   "cell_type": "markdown",
   "metadata": {},
   "source": [
    "## Load data"
   ]
  },
  {
   "cell_type": "code",
   "execution_count": 2,
   "metadata": {},
   "outputs": [],
   "source": [
    "datafile = '/n/home05/msulprizio/SR1/runs/12.0.0/Run0/netcdf/GC_12.0.0.20160701.nc'\n",
    "ds_orig = xr.open_dataset(datafile)\n",
    "#ds_orig"
   ]
  },
  {
   "cell_type": "code",
   "execution_count": 3,
   "metadata": {},
   "outputs": [
    {
     "data": {
      "text/plain": [
       "<xarray.DataArray 'IJ_AVG_S__HNO3' (time: 1, lev: 72, lat: 46, lon: 72)>\n",
       "[238464 values with dtype=float32]\n",
       "Coordinates:\n",
       "  * time     (time) datetime64[ns] 2016-07-01\n",
       "  * lev      (lev) float64 0.9925 0.9775 0.9624 0.9473 0.9322 0.9171 0.902 ...\n",
       "  * lat      (lat) float64 -89.0 -86.0 -82.0 -78.0 -74.0 -70.0 -66.0 -62.0 ...\n",
       "  * lon      (lon) float64 -180.0 -175.0 -170.0 -165.0 -160.0 -155.0 -150.0 ...\n",
       "Attributes:\n",
       "    long_name:  HNO3 tracer\n",
       "    units:      ppbv"
      ]
     },
     "execution_count": 3,
     "metadata": {},
     "output_type": "execute_result"
    }
   ],
   "source": [
    "# Look at the structure of concentration data array in the dataset\n",
    "ds_orig['IJ_AVG_S__HNO3']"
   ]
  },
  {
   "cell_type": "markdown",
   "metadata": {},
   "source": [
    "## Create a new dataset"
   ]
  },
  {
   "cell_type": "code",
   "execution_count": 4,
   "metadata": {},
   "outputs": [],
   "source": [
    "# Since I want to plot altitude not number of levels, define the altitude coords\n",
    "# I will use info from the wiki to approximate:\n",
    "#http://wiki.seas.harvard.edu/geos-chem/index.php/GEOS-Chem_vertical_grids#72-layer_vertical_grid\n",
    "alts_rev = [78.146,74.594,71.812,69.440,67.243,65.115,63.004,60.902,58.816,56.752,54.717,52.716,50.754,48.835,46.962,45.134,43.355,41.627,39.951,38.328,36.759,35.244,33.782,32.372,31.015,29.701,28.423,27.180,25.971,24.794,23.648,22.531,21.438,20.364,19.309,18.269,17.243,16.222,15.198,14.170,13.134,12.086,11.021,9.936,8.846,7.943,7.237,6.585,5.980,5.413,4.879,4.375,3.896,3.439,3.074,2.792,2.517,2.249,1.988,1.759,1.584,1.436,1.290,1.146,1.004,0.864,0.726,0.589,0.454,0.320,0.189,0.058]\n",
    "alts = alts_rev[::-1]"
   ]
  },
  {
   "cell_type": "code",
   "execution_count": 5,
   "metadata": {},
   "outputs": [],
   "source": [
    "# For the other coordinates, use the coordinates in the original file\n",
    "times=ds_orig['time']\n",
    "lats=ds_orig['lat']\n",
    "lons=ds_orig['lon']"
   ]
  },
  {
   "cell_type": "code",
   "execution_count": 6,
   "metadata": {},
   "outputs": [],
   "source": [
    "# The first species I'm interested in is HNO3. Make a DataArray for it using altitudes\n",
    "hno3arr = 0\n",
    "hno3arr = ds_orig['IJ_AVG_S__HNO3'].data\n",
    "da1 = xr.DataArray(hno3arr, \n",
    "                   coords={'time':times,'alt':alts,'lat':lats,'lon':lons},\n",
    "                   dims=('time','alt','lat','lon'))\n",
    "da1.attrs['units']='ppbv'\n",
    "da1.name = 'HNO3'"
   ]
  },
  {
   "cell_type": "code",
   "execution_count": 7,
   "metadata": {},
   "outputs": [],
   "source": [
    "# Next is PAN\n",
    "panarr = 0\n",
    "panarr = ds_orig['IJ_AVG_S__PAN'].data\n",
    "da2 = xr.DataArray(panarr, \n",
    "                   coords={'time':times,'alt':alts,'lat':lats,'lon':lons},\n",
    "                   dims=('time','alt','lat','lon'))\n",
    "da2.attrs['units']='ppbv'\n",
    "da2.name = 'PAN'"
   ]
  },
  {
   "cell_type": "code",
   "execution_count": 8,
   "metadata": {},
   "outputs": [],
   "source": [
    "# Next is the sum of NO and NO2, which is not a single tracer in GEOS-Chem\n",
    "noarr = 0\n",
    "noarr = ds_orig['IJ_AVG_S__NO'].data  + ds_orig['IJ_AVG_S__NO2'].data\n",
    "da3 = xr.DataArray(noarr, \n",
    "                   coords={'time':times,'alt':alts,'lat':lats,'lon':lons},\n",
    "                   dims=('time','alt','lat','lon'))\n",
    "da3.attrs['units']='ppbv'\n",
    "da3.name = 'NO+NO2'"
   ]
  },
  {
   "cell_type": "code",
   "execution_count": 9,
   "metadata": {},
   "outputs": [
    {
     "data": {
      "text/plain": [
       "[]"
      ]
     },
     "execution_count": 9,
     "metadata": {},
     "output_type": "execute_result"
    }
   ],
   "source": [
    "# Finally, NOy. This is the sum of a bunch of different species concentratins. I got this list\n",
    "# from planeflight_mod.F in GEOS-Chem. \n",
    "# I suspect one of the species that goes into NOy is not in this data set. Check this:\n",
    "[k for k in ds_orig.data_vars.keys() if 'PYPAN' in k]"
   ]
  },
  {
   "cell_type": "code",
   "execution_count": 10,
   "metadata": {},
   "outputs": [],
   "source": [
    "# It indeed is not present. Sum the rest only.\n",
    "noyarr = 0\n",
    "noyarr = ds_orig['IJ_AVG_S__NO'].data  + ds_orig['IJ_AVG_S__NO2'].data\n",
    "noyarr = noyarr + ds_orig['IJ_AVG_S__NO3'].data  + ds_orig['IJ_AVG_S__HNO2'].data\n",
    "noyarr = noyarr + ds_orig['IJ_AVG_S__HNO4'].data  + ds_orig['IJ_AVG_S__HNO3'].data\n",
    "noyarr = noyarr + ds_orig['IJ_AVG_S__PAN'].data  + ds_orig['IJ_AVG_S__IPMN'].data\n",
    "noyarr = noyarr + ds_orig['IJ_AVG_S__NPMN'].data  + ds_orig['IJ_AVG_S__PPN'].data\n",
    "noyarr = noyarr + ds_orig['IJ_AVG_S__N2O5'].data\n",
    "da4 = xr.DataArray(noyarr, \n",
    "                   coords={'time':times,'alt':alts,'lat':lats,'lon':lons},\n",
    "                   dims=('time','alt','lat','lon'))\n",
    "da4.attrs['units']='ppbv'\n",
    "da4.name = 'NOy'"
   ]
  },
  {
   "cell_type": "code",
   "execution_count": 11,
   "metadata": {},
   "outputs": [
    {
     "data": {
      "text/plain": [
       "<xarray.Dataset>\n",
       "Dimensions:  (alt: 72, lat: 46, lon: 72, time: 1)\n",
       "Coordinates:\n",
       "  * time     (time) datetime64[ns] 2016-07-01\n",
       "  * alt      (alt) float64 0.058 0.189 0.32 0.454 0.589 0.726 0.864 1.004 ...\n",
       "  * lat      (lat) float64 -89.0 -86.0 -82.0 -78.0 -74.0 -70.0 -66.0 -62.0 ...\n",
       "  * lon      (lon) float64 -180.0 -175.0 -170.0 -165.0 -160.0 -155.0 -150.0 ...\n",
       "Data variables:\n",
       "    HNO3     (time, alt, lat, lon) float32 5.55979e-07 5.55979e-07 ...\n",
       "    PAN      (time, alt, lat, lon) float32 0.0100906 0.0100906 0.0100906 ...\n",
       "    NO+NO2   (time, alt, lat, lon) float32 0.000621999 0.000621999 ...\n",
       "    NOy      (time, alt, lat, lon) float32 0.0122359 0.0122359 0.0122359 ..."
      ]
     },
     "execution_count": 11,
     "metadata": {},
     "output_type": "execute_result"
    }
   ],
   "source": [
    "# Merge the four xarray DataArray containers into a single xarray Dataset\n",
    "ds = xr.merge([da1,da2,da3,da4])\n",
    "ds"
   ]
  },
  {
   "cell_type": "code",
   "execution_count": 12,
   "metadata": {},
   "outputs": [],
   "source": [
    "# Write this dataset to a netcdf file\n",
    "ds.to_netcdf('/n/home08/elundgren/regal/nitrates.nc')"
   ]
  },
  {
   "cell_type": "markdown",
   "metadata": {},
   "source": [
    "## Define a function to plot altitude vs lat or lon, or zonal mean"
   ]
  },
  {
   "cell_type": "code",
   "execution_count": 13,
   "metadata": {},
   "outputs": [],
   "source": [
    "# Define a function plot altitude vs longitude (fixed lat), altitude vs latitude (fixed lon),\n",
    "# or zonal mean\n",
    "def plot_curtain(dgcc, varlist=None, itime=0, lonval=None, latval=None, zonalmean=False, \n",
    "                 savepdf=False, pdfname='./curtain.pdf', full_ratio_range=False):\n",
    "\n",
    "    fixedlon = lonval != None\n",
    "    fixedlat = latval != None\n",
    "    \n",
    "    # If no varlist is passed, plot all 3D variables in the dataset\n",
    "    if varlist == None:\n",
    "        varlist = [k for k in dgcc.data_vars.keys() if dgchp[k].ndim == 4]\n",
    "        print('Plotting all 3D variables in dataset')\n",
    "    n_var = len(varlist)\n",
    "    \n",
    "    # Some axes setup\n",
    "    if fixedlon or zonalmean:\n",
    "        xtick_positions = np.arange(-90,91,30) # latitudes\n",
    "        xticklabels = ['{}$\\degree$'.format(x) for x in xtick_positions]\n",
    "    if fixedlat:\n",
    "        xtick_positions = np.arange(-180,181,60) # longitudes\n",
    "        xticklabels = ['{}$\\degree$'.format(x) for x in xtick_positions]\n",
    "    ytick_positions = np.arange(0,20,5) # altitudes (adjust as needed)\n",
    "    yticklabels = [str(y) for y in ytick_positions]\n",
    "    \n",
    "    # Create pdf (if saving)\n",
    "    if savepdf:\n",
    "        print('\\nCreating {}'.format(pdfname))\n",
    "        pdf = PdfPages(pdfname)\n",
    "\n",
    "    # Loop over variables\n",
    "    for ivar in range(n_var):\n",
    "        if savepdf: print('{} '.format(ivar), end='')\n",
    "        varname = varlist[ivar]\n",
    "        units = dgcc[varname].units\n",
    "        \n",
    "        # Set plot entent for axes\n",
    "        if fixedlon or zonalmean:\n",
    "            extent=(-90,90,0,20)\n",
    "        if fixedlat:\n",
    "            extent=(-180,180,0,20)\n",
    "        \n",
    "        # Slice the data in time\n",
    "        ds = dgcc[varname].isel(time=itime)\n",
    "        \n",
    "        # Slice the data in space\n",
    "        if fixedlon:\n",
    "            gcc_curtain = ds.sel(lon=lonval) # if doing constant lon\n",
    "        if fixedlat:\n",
    "            gcc_curtain = ds.sel(lat=latval) # if doing constant lat\n",
    "        if zonalmean:\n",
    "            gcc_curtain = ds.mean(axis=1) # if doing zonal mean\n",
    "            \n",
    "        # Get min and max for colorbar limits\n",
    "        [vmin, vmax] = [gcc_curtain.min(), gcc_curtain.max()]\n",
    "        \n",
    "        # Create 1x1 figure (leave as subplots for easy addition of more plots in figure)\n",
    "        figs, ((ax0)) = plt.subplots(1, 1, figsize=[10,11], subplot_kw={'projection': crs.PlateCarree()})\n",
    "\n",
    "        # Give the page a title\n",
    "        offset = 0.96\n",
    "        fontsize=25\n",
    "        \n",
    "        # Update title as needed (e.g. might want to remove or replace July)\n",
    "        # Would be good to maybe pass an argument for this to function\n",
    "        if fixedlon:\n",
    "            if lonval >= 0:\n",
    "                figs.suptitle('{}  July  ${}\\degree$E'.format(varname,lonval), fontsize=fontsize, y=offset)\n",
    "            else:\n",
    "                figs.suptitle('{}  July  ${}\\degree$W'.format(varname,-lonval), fontsize=fontsize, y=offset)\n",
    "        if fixedlat:\n",
    "            if latval >=0:\n",
    "                figs.suptitle('{}  July  ${}\\degree$N'.format(varname,latval), fontsize=fontsize, y=offset)\n",
    "            else:\n",
    "                figs.suptitle('{}  July  ${}\\degree$S'.format(varname,-latval), fontsize=fontsize, y=offset)\n",
    "\n",
    "        if zonalmean:\n",
    "            figs.suptitle('{}  July  Zonal Mean'.format(varname), fontsize=fontsize, y=offset)\n",
    "            \n",
    "        # Plot 0\n",
    "        # Update subtitle as needed (e.g. migh want to change source description)\n",
    "        # Would be good to maybe pass as an argument to this function\n",
    "        plot0 = ax0.imshow(gcc_curtain, cmap=WhGrYlRd, extent=extent, vmin=vmin, vmax=vmax)\n",
    "        ax0.set_title('GEOS-Chem 1-year Benchmark (12.0.0)', fontsize=20)\n",
    "        ax0.set_aspect('auto')\n",
    "        ax0.set_xticks(xtick_positions)\n",
    "        ax0.set_xticklabels(xticklabels)\n",
    "        ax0.set_yticks(ytick_positions)\n",
    "        ax0.set_yticklabels(yticklabels)\n",
    "        if fixedlon or zonalmean:\n",
    "            ax0.set_xlabel('Latitude', fontsize=20)\n",
    "        if fixedlat:\n",
    "            ax0.set_xlabel('Longitude', fontsize=20)\n",
    "        ax0.set_ylabel('Altitude (km)', fontsize=20)\n",
    "        cb = plt.colorbar(plot0, ax=ax0, orientation='horizontal', pad=0.10)\n",
    "        if (vmax-vmin) < 0.001 or (vmax-vmin) > 1000:\n",
    "            cb.locator = ticker.MaxNLocator(nbins=4)\n",
    "            cb.update_ticks()\n",
    "        cb.set_label(units, fontsize=12)\n",
    "            \n",
    "        if savepdf:    \n",
    "            pdf.savefig(figs)\n",
    "            plt.close(figs)\n",
    "            \n",
    "    if savepdf: pdf.close()"
   ]
  },
  {
   "cell_type": "markdown",
   "metadata": {},
   "source": [
    "## Plot data"
   ]
  },
  {
   "cell_type": "code",
   "execution_count": 14,
   "metadata": {},
   "outputs": [
    {
     "data": {
      "text/plain": [
       "<xarray.DataArray 'lon' (lon: 72)>\n",
       "array([-180., -175., -170., -165., -160., -155., -150., -145., -140., -135.,\n",
       "       -130., -125., -120., -115., -110., -105., -100.,  -95.,  -90.,  -85.,\n",
       "        -80.,  -75.,  -70.,  -65.,  -60.,  -55.,  -50.,  -45.,  -40.,  -35.,\n",
       "        -30.,  -25.,  -20.,  -15.,  -10.,   -5.,    0.,    5.,   10.,   15.,\n",
       "         20.,   25.,   30.,   35.,   40.,   45.,   50.,   55.,   60.,   65.,\n",
       "         70.,   75.,   80.,   85.,   90.,   95.,  100.,  105.,  110.,  115.,\n",
       "        120.,  125.,  130.,  135.,  140.,  145.,  150.,  155.,  160.,  165.,\n",
       "        170.,  175.])\n",
       "Coordinates:\n",
       "  * lon      (lon) float64 -180.0 -175.0 -170.0 -165.0 -160.0 -155.0 -150.0 ...\n",
       "Attributes:\n",
       "    long_name:  Longitude\n",
       "    units:      degrees_east\n",
       "    axis:       X"
      ]
     },
     "execution_count": 14,
     "metadata": {},
     "output_type": "execute_result"
    }
   ],
   "source": [
    "# Try a fixed longitude plot. \n",
    "# First, see what the options are for longitude\n",
    "ds['lon']"
   ]
  },
  {
   "cell_type": "code",
   "execution_count": 15,
   "metadata": {},
   "outputs": [
    {
     "data": {
      "image/png": "[encoded data removed]",
      "text/plain": [
       "<matplotlib.figure.Figure at 0x2b841d697208>"
      ]
     },
     "metadata": {},
     "output_type": "display_data"
    }
   ],
   "source": [
    "# Pick a longitude to plot\n",
    "plot_curtain(ds, varlist=['HNO3'], lonval=60 )"
   ]
  },
  {
   "cell_type": "code",
   "execution_count": 16,
   "metadata": {},
   "outputs": [
    {
     "data": {
      "image/png": "[encoded data removed]",
      "text/plain": [
       "<matplotlib.figure.Figure at 0x2b8426d2fe10>"
      ]
     },
     "metadata": {},
     "output_type": "display_data"
    }
   ],
   "source": [
    "# Try a zonal mean plot\n",
    "plot_curtain(ds, varlist=['NOy'], zonalmean=True )"
   ]
  },
  {
   "cell_type": "code",
   "execution_count": 17,
   "metadata": {},
   "outputs": [
    {
     "data": {
      "text/plain": [
       "<xarray.DataArray 'lat' (lat: 46)>\n",
       "array([-89., -86., -82., -78., -74., -70., -66., -62., -58., -54., -50., -46.,\n",
       "       -42., -38., -34., -30., -26., -22., -18., -14., -10.,  -6.,  -2.,   2.,\n",
       "         6.,  10.,  14.,  18.,  22.,  26.,  30.,  34.,  38.,  42.,  46.,  50.,\n",
       "        54.,  58.,  62.,  66.,  70.,  74.,  78.,  82.,  86.,  89.])\n",
       "Coordinates:\n",
       "  * lat      (lat) float64 -89.0 -86.0 -82.0 -78.0 -74.0 -70.0 -66.0 -62.0 ...\n",
       "Attributes:\n",
       "    long_name:  Latitude\n",
       "    units:      degrees_north\n",
       "    axis:       Y"
      ]
     },
     "execution_count": 17,
     "metadata": {},
     "output_type": "execute_result"
    }
   ],
   "source": [
    "# Try a fixed latitude plot\n",
    "# First, see what my options are for latitudes\n",
    "ds['lat']"
   ]
  },
  {
   "cell_type": "code",
   "execution_count": 18,
   "metadata": {},
   "outputs": [
    {
     "data": {
      "image/png": "[encoded data removed]",
      "text/plain": [
       "<matplotlib.figure.Figure at 0x2b8426e61668>"
      ]
     },
     "metadata": {},
     "output_type": "display_data"
    }
   ],
   "source": [
    "# Pick one latitude to plot\n",
    "plot_curtain(ds, varlist=['NOy'], latval=-70 )"
   ]
  },
  {
   "cell_type": "markdown",
   "metadata": {},
   "source": [
    "## Save plots to a pdf"
   ]
  },
  {
   "cell_type": "code",
   "execution_count": 19,
   "metadata": {
    "scrolled": true
   },
   "outputs": [
    {
     "name": "stdout",
     "output_type": "stream",
     "text": [
      "\n",
      "Creating /n/home08/elundgren/regal/test.pdf\n",
      "0 1 2 3 "
     ]
    }
   ],
   "source": [
    "# Since it looks okay, create plots for my four variables in the dataset and save it to a single pdf\n",
    "varlist=['HNO3','PAN','NO+NO2','NOy']\n",
    "pdfpath = '/n/home08/elundgren/regal/test.pdf'\n",
    "plot_curtain(ds, varlist=varlist, lonval=60, savepdf=True, pdfname=pdfpath )"
   ]
  }
 ],
 "metadata": {
  "kernelspec": {
   "display_name": "Python 3",
   "language": "python",
   "name": "python3"
  },
  "language_info": {
   "codemirror_mode": {
    "name": "ipython",
    "version": 3
   },
   "file_extension": ".py",
   "mimetype": "text/x-python",
   "name": "python",
   "nbconvert_exporter": "python",
   "pygments_lexer": "ipython3",
   "version": "3.6.3"
  }
 },
 "nbformat": 4,
 "nbformat_minor": 2
}
